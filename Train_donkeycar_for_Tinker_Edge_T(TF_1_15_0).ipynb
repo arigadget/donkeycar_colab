{
  "nbformat": 4,
  "nbformat_minor": 0,
  "metadata": {
    "colab": {
      "name": "Train donkeycar for Tinker Edge T(TF 1.15.0)",
      "provenance": [],
      "collapsed_sections": [],
      "toc_visible": true,
      "include_colab_link": true
    },
    "kernelspec": {
      "name": "python3",
      "display_name": "Python 3"
    },
    "accelerator": "GPU"
  },
  "cells": [
    {
      "cell_type": "markdown",
      "metadata": {
        "id": "view-in-github",
        "colab_type": "text"
      },
      "source": [
        "<a href=\"https://colab.research.google.com/github/arigadget/donkeycar_colab/blob/master/Train_donkeycar_for_Tinker_Edge_T(TF_1_15_0).ipynb\" target=\"_parent\"><img src=\"https://colab.research.google.com/assets/colab-badge.svg\" alt=\"Open In Colab\"/></a>"
      ]
    },
    {
      "cell_type": "markdown",
      "metadata": {
        "colab_type": "text",
        "id": "BlmQIFSLZDdc"
      },
      "source": [
        "# Train Donkeycar for Tinker Edge T\n",
        "Version 0.1 (Update 2020/02/20)\n",
        "\n",
        "arigadget\n",
        "\n"
      ]
    },
    {
      "cell_type": "markdown",
      "metadata": {
        "id": "dHVysBXtJCYY",
        "colab_type": "text"
      },
      "source": [
        "# Install Tensorflow-gpu（1.15.0）\n",
        "\n"
      ]
    },
    {
      "cell_type": "code",
      "metadata": {
        "id": "UPa0JVLstnhT",
        "colab_type": "code",
        "colab": {}
      },
      "source": [
        "!pip uninstall -y tensorflow\n",
        "!pip install tensorflow-gpu==1.15.0"
      ],
      "execution_count": 0,
      "outputs": []
    },
    {
      "cell_type": "markdown",
      "metadata": {
        "id": "JmHzQGIrJZic",
        "colab_type": "text"
      },
      "source": [
        "# Version check(Optional)\n",
        "\n",
        "tensorflow-gpu : 1.15.0\n",
        "\n",
        "cuda                   : 10.0.130\n",
        "\n",
        "cuDNN               : 7.6.x"
      ]
    },
    {
      "cell_type": "code",
      "metadata": {
        "id": "lKhx0NuMvNz1",
        "colab_type": "code",
        "colab": {}
      },
      "source": [
        "!pip list | grep -i -e tensorflow\n",
        "!nvcc --version\n",
        "!ls -l /usr/lib/x86_64-linux-gnu/libcudnn.so*"
      ],
      "execution_count": 0,
      "outputs": []
    },
    {
      "cell_type": "markdown",
      "metadata": {
        "id": "arsH-DhLcihq",
        "colab_type": "text"
      },
      "source": [
        "# Check GPU allocation(Optional)\n",
        "If \"Found GPU at: /device: GPU: 0\" is displayed, the GPU is ready to use."
      ]
    },
    {
      "cell_type": "code",
      "metadata": {
        "id": "uQgEhuoTcg0N",
        "colab_type": "code",
        "colab": {}
      },
      "source": [
        "import tensorflow as tf\n",
        "device_name = tf.test.gpu_device_name()\n",
        "if device_name != '/device:GPU:0':\n",
        "  raise SystemError('GPU device not found')\n",
        "print('Found GPU at: {}'.format(device_name))\n"
      ],
      "execution_count": 0,
      "outputs": []
    },
    {
      "cell_type": "markdown",
      "metadata": {
        "id": "DownLfUVzUWg",
        "colab_type": "text"
      },
      "source": [
        "# Install Edge Compiler\n"
      ]
    },
    {
      "cell_type": "code",
      "metadata": {
        "id": "txlsokiHzOJU",
        "colab_type": "code",
        "colab": {}
      },
      "source": [
        "!curl https://packages.cloud.google.com/apt/doc/apt-key.gpg | sudo apt-key add -\n",
        "!echo \"deb https://packages.cloud.google.com/apt coral-edgetpu-stable main\" | sudo tee /etc/apt/sources.list.d/coral-edgetpu.list\n",
        "!sudo apt-get update\n",
        "!sudo apt-get install edgetpu-compiler\n",
        "!edgetpu_compiler --version"
      ],
      "execution_count": 0,
      "outputs": []
    },
    {
      "cell_type": "markdown",
      "metadata": {
        "id": "9TkkcF-gsAnx",
        "colab_type": "text"
      },
      "source": [
        "# Install Donkeycar & Create Project\n"
      ]
    },
    {
      "cell_type": "code",
      "metadata": {
        "id": "oOxd9PFUyNxI",
        "colab_type": "code",
        "colab": {}
      },
      "source": [
        "!git clone https://github.com/autorope/donkeycar.git \n",
        "%cd donkeycar\n",
        "!git checkout master\n",
        "!pip3 install -e .[pc]\n",
        "!donkey createcar --path /content/mycar"
      ],
      "execution_count": 0,
      "outputs": []
    },
    {
      "cell_type": "markdown",
      "metadata": {
        "colab_type": "text",
        "id": "F7kKwKG5AVdt"
      },
      "source": [
        "# Upload datas.zip & unzip\n",
        "upload datas.zip from PC to my google drive under folder `Colab Notebooks`\n",
        "\n",
        "copy datas.zip from google drive to colab `/content/mycar/data/`\n",
        "\n",
        "unzip datas.zip\n",
        "\n"
      ]
    },
    {
      "cell_type": "code",
      "metadata": {
        "id": "fA1y7NMxFT_B",
        "colab_type": "code",
        "colab": {}
      },
      "source": [
        "import os\n",
        "from google.colab import drive\n",
        "drive.mount('/content/gdrive')\n",
        "\n",
        "%cd /content/mycar/data\n",
        "!cp -r '/content/gdrive/My Drive/Colab Notebooks/datas.zip' datas.zip\n",
        "\n",
        "!unzip -o datas.zip\n",
        "!rm -rf datas.zip"
      ],
      "execution_count": 0,
      "outputs": []
    },
    {
      "cell_type": "markdown",
      "metadata": {
        "colab_type": "text",
        "id": "Hf-lj_ocvJYn"
      },
      "source": [
        "# Train your model\n"
      ]
    },
    {
      "cell_type": "code",
      "metadata": {
        "colab_type": "code",
        "id": "aT6KkVU2yXDX",
        "colab": {}
      },
      "source": [
        "%cd /content/mycar/models\n",
        "!python ../manage.py train --tub=../data/* --model=mypilot_tinker.tflite --type=coral_tflite_linear"
      ],
      "execution_count": 0,
      "outputs": []
    },
    {
      "cell_type": "markdown",
      "metadata": {
        "id": "iWtc6q3LPHqP",
        "colab_type": "text"
      },
      "source": [
        "# Download tflite\n",
        "copy edgetpu.tflite from colab to download folder on PC."
      ]
    },
    {
      "cell_type": "code",
      "metadata": {
        "id": "SmI6Vv0gEiZF",
        "colab_type": "code",
        "colab": {}
      },
      "source": [
        "from google.colab import files\n",
        "\n",
        "files.download('/content/mycar/models/mypilot_tinker_edgetpu.tflite')"
      ],
      "execution_count": 0,
      "outputs": []
    }
  ]
}